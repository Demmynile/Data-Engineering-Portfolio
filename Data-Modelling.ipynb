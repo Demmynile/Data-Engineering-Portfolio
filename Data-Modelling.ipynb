{
 "cells": [
  {
   "cell_type": "markdown",
   "id": "7d91ad7b",
   "metadata": {},
   "source": [
    "# Creating a tables in the database"
   ]
  },
  {
   "cell_type": "markdown",
   "id": "19ed1c21",
   "metadata": {},
   "source": [
    "#### install the connecting library to the postgreSql"
   ]
  },
  {
   "cell_type": "code",
   "execution_count": 1,
   "id": "1bd0c2e1",
   "metadata": {},
   "outputs": [
    {
     "name": "stdout",
     "output_type": "stream",
     "text": [
      "Collecting psycopg2\n",
      "  Downloading psycopg2-2.9.9.tar.gz (384 kB)\n",
      "\u001b[2K     \u001b[90m━━━━━━━━━━━━━━━━━━━━━━━━━━━━━━━━━━━━━━━\u001b[0m \u001b[32m384.9/384.9 kB\u001b[0m \u001b[31m1.6 MB/s\u001b[0m eta \u001b[36m0:00:00\u001b[0m00:01\u001b[0m00:01\u001b[0m\n",
      "\u001b[?25h  Preparing metadata (setup.py) ... \u001b[?25ldone\n",
      "\u001b[?25hBuilding wheels for collected packages: psycopg2\n",
      "  Building wheel for psycopg2 (setup.py) ... \u001b[?25ldone\n",
      "\u001b[?25h  Created wheel for psycopg2: filename=psycopg2-2.9.9-cp311-cp311-macosx_10_9_x86_64.whl size=133310 sha256=430beb8b0e21684a3e2e430da6579f735c84c0418aa7a99b334d59c2ef67b032\n",
      "  Stored in directory: /Users/olatoyosi/Library/Caches/pip/wheels/ab/34/b9/78ebef1b3220b4840ee482461e738566c3c9165d2b5c914f51\n",
      "Successfully built psycopg2\n",
      "Installing collected packages: psycopg2\n",
      "Successfully installed psycopg2-2.9.9\n"
     ]
    }
   ],
   "source": [
    "!pip3 install psycopg2"
   ]
  },
  {
   "cell_type": "markdown",
   "id": "8d88d02d",
   "metadata": {},
   "source": [
    "### Import the library"
   ]
  },
  {
   "cell_type": "code",
   "execution_count": 4,
   "id": "43c3a604",
   "metadata": {},
   "outputs": [],
   "source": [
    "import psycopg2"
   ]
  },
  {
   "cell_type": "markdown",
   "id": "e22af85e",
   "metadata": {},
   "source": [
    "### Creating the connection with the database"
   ]
  },
  {
   "cell_type": "code",
   "execution_count": 7,
   "id": "ee94ed8a",
   "metadata": {},
   "outputs": [
    {
     "name": "stdout",
     "output_type": "stream",
     "text": [
      "Database is well established\n"
     ]
    }
   ],
   "source": [
    "try:\n",
    "    conn = psycopg2.connect(\"host=127.0.0.1 user=postgres dbname=postgres password=Harbeedeymee_123\")\n",
    "    if conn:\n",
    "        print('Database is well established')\n",
    "except psycopg2.Error as e:\n",
    "    print(\"Database can't be established\")\n",
    "    print(e)"
   ]
  },
  {
   "cell_type": "code",
   "execution_count": null,
   "id": "08eaa1d7",
   "metadata": {},
   "outputs": [],
   "source": []
  }
 ],
 "metadata": {
  "kernelspec": {
   "display_name": "Python 3 (ipykernel)",
   "language": "python",
   "name": "python3"
  },
  "language_info": {
   "codemirror_mode": {
    "name": "ipython",
    "version": 3
   },
   "file_extension": ".py",
   "mimetype": "text/x-python",
   "name": "python",
   "nbconvert_exporter": "python",
   "pygments_lexer": "ipython3",
   "version": "3.11.5"
  }
 },
 "nbformat": 4,
 "nbformat_minor": 5
}
