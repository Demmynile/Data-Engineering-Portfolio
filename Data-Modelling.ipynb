{
 "cells": [
  {
   "cell_type": "markdown",
   "id": "6ddea77e",
   "metadata": {},
   "source": [
    "# Creating a tables in the database"
   ]
  },
  {
   "cell_type": "markdown",
   "id": "bf174ad1",
   "metadata": {},
   "source": [
    "#### install the connecting library to the postgreSql"
   ]
  },
  {
   "cell_type": "code",
   "execution_count": 33,
   "id": "608ccd8f",
   "metadata": {},
   "outputs": [],
   "source": [
    "#!pip3 install psycopg2"
   ]
  },
  {
   "cell_type": "markdown",
   "id": "820d6431",
   "metadata": {},
   "source": [
    "### Import the library"
   ]
  },
  {
   "cell_type": "code",
   "execution_count": 34,
   "id": "8b6eab02",
   "metadata": {},
   "outputs": [],
   "source": [
    "import psycopg2"
   ]
  },
  {
   "cell_type": "markdown",
   "id": "4a9fcf5b",
   "metadata": {},
   "source": [
    "### Creating the connection with the database"
   ]
  },
  {
   "cell_type": "code",
   "execution_count": 35,
   "id": "9d30b885",
   "metadata": {},
   "outputs": [
    {
     "name": "stdout",
     "output_type": "stream",
     "text": [
      "Database is well established\n"
     ]
    }
   ],
   "source": [
    "try:\n",
    "    conn = psycopg2.connect(\"host=127.0.0.1 user=postgres dbname=postgres password=Harbeedeymee_123\")\n",
    "    if conn:\n",
    "        print('Database is well established')\n",
    "except psycopg2.Error as e:\n",
    "    print(\"Database can't be established\")\n",
    "    print(e)"
   ]
  },
  {
   "cell_type": "markdown",
   "id": "10dcd69b",
   "metadata": {},
   "source": [
    "### Using cursor to help you with query execution in the database"
   ]
  },
  {
   "cell_type": "code",
   "execution_count": 36,
   "id": "d0ef135f",
   "metadata": {},
   "outputs": [
    {
     "name": "stdout",
     "output_type": "stream",
     "text": [
      "cursor is definitely established\n"
     ]
    }
   ],
   "source": [
    "try:\n",
    "    cur = conn.cursor()\n",
    "    if cur:\n",
    "        print(\"cursor is definitely established\")\n",
    "except psycopg2.Error as e:\n",
    "    print(\"There is an error in the database\")\n",
    "    print(e)"
   ]
  },
  {
   "cell_type": "code",
   "execution_count": 37,
   "id": "cb50b0de",
   "metadata": {},
   "outputs": [],
   "source": [
    "# set commit to True so that we wont repeat it again\n",
    "conn.set_session(autocommit = True)"
   ]
  },
  {
   "cell_type": "markdown",
   "id": "7ff22fef",
   "metadata": {},
   "source": [
    "# Creating a database to work with."
   ]
  },
  {
   "cell_type": "code",
   "execution_count": 38,
   "id": "9a4dae9a",
   "metadata": {},
   "outputs": [
    {
     "name": "stdout",
     "output_type": "stream",
     "text": [
      "Cannot create a database generalModel\n",
      "database \"generalmodel\" already exists\n",
      "\n"
     ]
    }
   ],
   "source": [
    "try:\n",
    "    cur.execute(\"create database generalModel\")\n",
    "except psycopg2.Error as e:\n",
    "    print('Cannot create a database generalModel')\n",
    "    print(e)"
   ]
  },
  {
   "cell_type": "markdown",
   "id": "388883c1",
   "metadata": {},
   "source": [
    "## Trying to close the connection of the first dataset to the last dataset"
   ]
  },
  {
   "cell_type": "code",
   "execution_count": 39,
   "id": "22ed3dad",
   "metadata": {},
   "outputs": [
    {
     "name": "stdout",
     "output_type": "stream",
     "text": [
      "Database is well established\n",
      "cursor is definitely established\n"
     ]
    }
   ],
   "source": [
    "try:\n",
    "    #close the previous connection\n",
    "    conn.close()\n",
    "except psycopg2.Error as e:\n",
    "    print('closing the previous connection')\n",
    "    \n",
    "try:\n",
    "    #connecting to a new db\n",
    "    conn = psycopg2.connect(\"host=127.0.0.1 user=postgres dbname=generalmodel password=Harbeedeymee_123\")\n",
    "    if conn:\n",
    "        print('Database is well established')\n",
    "except psycopg2.Error as e:\n",
    "    print(\"Database can't be established\")\n",
    "    print(e)\n",
    "    \n",
    "try:\n",
    "    #connecting to a new cursor for execution\n",
    "    cur = conn.cursor()\n",
    "    if cur:\n",
    "        print(\"cursor is definitely established\")\n",
    "except psycopg2.Error as e:\n",
    "    print(\"There is an error in the database during execution\")\n",
    "    print(e) \n",
    "    \n",
    "\n",
    "# set commit to True so that we wont repeat it again\n",
    "conn.set_session(autocommit = True)\n"
   ]
  },
  {
   "cell_type": "markdown",
   "id": "94d7423e",
   "metadata": {},
   "source": [
    "### Creating Tables for Students with the following properties studentId , studentName"
   ]
  },
  {
   "cell_type": "code",
   "execution_count": 40,
   "id": "04274393",
   "metadata": {},
   "outputs": [],
   "source": [
    "#creating the table for student\n",
    "try:\n",
    "    #creating the table with the attribute\n",
    "    cur.execute(\"CREATE TABLE IF NOT EXISTS students(student_id int , name varchar, \\\n",
    "    age int , gender varchar,subject varchar , marks int);\")\n",
    "except psycopg2.Error as e:\n",
    "    print('Table was not created successfully')\n",
    "    print(e)"
   ]
  },
  {
   "cell_type": "markdown",
   "id": "965204c0",
   "metadata": {},
   "source": [
    "### Inserting the data into the table."
   ]
  },
  {
   "cell_type": "code",
   "execution_count": 41,
   "id": "7c3adc93",
   "metadata": {},
   "outputs": [],
   "source": [
    "# Inserting the first row\n",
    "try:\n",
    "    cur.execute(\"INSERT INTO students(student_id, name, age, gender, subject, marks) \\\n",
    "                 VALUES (%s,%s,%s,%s,%s,%s)\", \\\n",
    "                (1,'Raj',23,'Female','Mathematics',76))\n",
    "except psycopg2.Error as e:\n",
    "    print('Error observed inserting data into the table')\n",
    "    print(e)\n",
    "    \n",
    "# Inserting the second row    \n",
    "try:\n",
    "    cur.execute(\"INSERT INTO students(student_id, name, age, gender, subject, marks) \\\n",
    "                 VALUES (%s,%s,%s,%s,%s,%s)\", \\\n",
    "                (2,'Raji',43,'Male','English',16))\n",
    "except psycopg2.Error as e:\n",
    "    print('Error observed inserting data into the table')\n",
    "    print(e)\n"
   ]
  },
  {
   "cell_type": "markdown",
   "id": "c2f9de26",
   "metadata": {},
   "source": [
    "### Validating the data in the database"
   ]
  },
  {
   "cell_type": "code",
   "execution_count": 42,
   "id": "240c25ae",
   "metadata": {},
   "outputs": [
    {
     "name": "stdout",
     "output_type": "stream",
     "text": [
      "(1, 'Raj', 23, 'Female', 'Mathematics', 76)\n",
      "(2, 'Raji', 43, 'Male', 'English', 16)\n",
      "(1, 'Raj', 23, 'Female', 'Mathematics', 76)\n",
      "(2, 'Raji', 43, 'Male', 'English', 16)\n",
      "(1, 'Raj', 23, 'Female', 'Mathematics', 76)\n",
      "(2, 'Raji', 43, 'Male', 'English', 16)\n"
     ]
    }
   ],
   "source": [
    "try:\n",
    "    cur.execute('SELECT * FROM students')\n",
    "except psycopg2.Error as e:\n",
    "    print('Error observed fetching the data')\n",
    "    print(e)\n",
    "\n",
    "row = cur.fetchone()\n",
    "while row:\n",
    "    print(row)\n",
    "    row = cur.fetchone()"
   ]
  },
  {
   "cell_type": "markdown",
   "id": "18813bde",
   "metadata": {},
   "source": [
    "## Close your cursor connection "
   ]
  },
  {
   "cell_type": "code",
   "execution_count": 44,
   "id": "1a203f25",
   "metadata": {},
   "outputs": [],
   "source": [
    "try:\n",
    "    cur.close();\n",
    "    conn.close()\n",
    "    \n",
    "except psycopg2.Error as e:\n",
    "    print('There is an issue closing the connection')\n",
    "    print(e)"
   ]
  },
  {
   "cell_type": "code",
   "execution_count": null,
   "id": "5badf854",
   "metadata": {},
   "outputs": [],
   "source": []
  }
 ],
 "metadata": {
  "kernelspec": {
   "display_name": "Python 3 (ipykernel)",
   "language": "python",
   "name": "python3"
  },
  "language_info": {
   "codemirror_mode": {
    "name": "ipython",
    "version": 3
   },
   "file_extension": ".py",
   "mimetype": "text/x-python",
   "name": "python",
   "nbconvert_exporter": "python",
   "pygments_lexer": "ipython3",
   "version": "3.11.5"
  }
 },
 "nbformat": 4,
 "nbformat_minor": 5
}
